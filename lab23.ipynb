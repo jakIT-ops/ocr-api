{
 "cells": [
  {
   "cell_type": "markdown",
   "metadata": {
    "id": "7bDiqPgq5j5c"
   },
   "source": [
    "# OCR Optic Character Recognition\n",
    "Буюу зурагнаас дүрс илрүүлэх аргууд энэхүү сэдвийн доор хамаарагддаг бөгөөд энэхүү лабораторын ажилаар бидний амьдралд өдөр тутамд хэрэглэгддэг асуудал болох баримт бичгийн зурагнаас текст олборлох даалгаврыг зурагын боловсруулалтын \"Image Acquisition\" ашиглан шийдвэрлэх болно.\n",
    "\n",
    "# Хүрэх үр дүн\n",
    "1. Математикийн ойлголтыг дүрс боловсруулалтад хэрэглэх; A\n",
    "2. Зургийн боловсруулалтын хэрэгсэлүүдийг онцлог домайнд хэрхэн хэрэгжүүлэх ойлголт авах, тайлбарлах B\n",
    "3. Практик асуудлыг шийдвэрлэхийн тулд алгоритмыг төлөвлөх, хэрэгжүүлэх замаар дүрс боловсруулалтын мэдлэгийг харуулах I\n",
    "4. Дүрс боловсруулалтын чиглэлээр хийгдэж байгаа шинэ судалгааны ажлуудтай танилцах, мэдэх J\n",
    "5. Зураг боловсруулах сантай ажиллан зураг боловсруулах чадвартай болно A\n",
    "7. Бие даан туршилт судалгаан дээр суурилсан өгүүлэл бичих ба үр дүн гарган\n",
    "авна. J\n",
    "\n",
    "[Tesseract github](https://github.com/tesseract-ocr/tesseract)"
   ]
  },
  {
   "cell_type": "code",
   "execution_count": 1,
   "metadata": {},
   "outputs": [],
   "source": [
    "# libraries\n",
    "import cv2\n",
    "from matplotlib import pyplot as plt\n",
    "import pytesseract\n",
    "import numpy as np\n"
   ]
  },
  {
   "cell_type": "code",
   "execution_count": 2,
   "metadata": {},
   "outputs": [],
   "source": [
    "# util\n",
    "config = ('-l mon — oem 3 — psm 3')\n",
    "\n",
    "kernel = np.array([[0, -1, 0],\n",
    "                   [-1, 5, -1],\n",
    "                   [0, -1, 0]])"
   ]
  },
  {
   "cell_type": "code",
   "execution_count": 3,
   "metadata": {
    "colab": {
     "base_uri": "https://localhost:8080/",
     "height": 773
    },
    "id": "BEAOfL83rb-j",
    "outputId": "ad7a1757-5154-4c8c-f5d2-02af406cc934"
   },
   "outputs": [],
   "source": [
    "# minii nutag image 2 \n",
    "def img2():\n",
    "    img = cv2.imread('minii_nutag2.jpg')\n",
    "    gray = cv2.cvtColor(img, cv2.COLOR_BGR2GRAY)\n",
    "    noise = cv2.medianBlur(gray, 7)\n",
    "\n",
    "    thresh = cv2.threshold(noise, 200, 255, 0)[1]\n",
    "    edged = cv2.Canny(thresh, 1500, 100)\n",
    "    contours, hierarchy = cv2.findContours(edged, cv2.RETR_EXTERNAL, cv2.CHAIN_APPROX_SIMPLE)\n",
    "\n",
    "    perim = cv2.arcLength(contours[0], True)\n",
    "    # setting the precision\n",
    "    epsilon = 0.02 * perim\n",
    "\n",
    "    approxCorners = cv2.approxPolyDP(contours[0], epsilon, True)\n",
    "    corners = np.array(approxCorners).reshape(4, 2)\n",
    "    print(corners.shape)\n",
    "    \n",
    "    for point in corners:\n",
    "        cv2.circle(img, (point[0], point[1]), 30, (0, 0, 255), -1)\n",
    "\n",
    "    wrapped_img = np.zeros((img.shape[1], img.shape[0], 3))\n",
    "    \n",
    "    print(wrapped_img.shape)\n",
    "    dst = np.float32(np.array(\n",
    "        [[0, 0], [wrapped_img.shape[0], 0], [0, wrapped_img.shape[1]], [wrapped_img.shape[0], wrapped_img.shape[1]]]))\n",
    "    src = np.array([corners[0], corners[3], corners[1], corners[2]])\n",
    "    src = np.float32(src)\n",
    "\n",
    "    matrix = cv2.getPerspectiveTransform(src, dst)\n",
    "    result = cv2.warpPerspective(img, matrix, (wrapped_img.shape[0], wrapped_img.shape[1]))\n",
    "\n",
    "    image_sharp = cv2.filter2D(src=result, ddepth=-1, kernel=kernel)\n",
    "\n",
    "    text = pytesseract.image_to_string(image_sharp, config=config)\n",
    "    print(\"TEXT: \" + text)\n",
    "    return text"
   ]
  },
  {
   "cell_type": "code",
   "execution_count": 4,
   "metadata": {},
   "outputs": [],
   "source": [
    "# minii nutag advanced\n",
    "def advImg():\n",
    "    img = cv2.imread('minii_nutag_advanced.jpg')\n",
    "   \n",
    "    gray = cv2.cvtColor(img, cv2.COLOR_BGR2GRAY)\n",
    "    noise = cv2.medianBlur(gray, 37)\n",
    "\n",
    "    thresh = cv2.threshold(noise, 204, 255, 0)[1]\n",
    "    edged = cv2.Canny(thresh, 1500, 100)\n",
    "    contours, hierarchy = cv2.findContours(edged, cv2.RETR_EXTERNAL, cv2.CHAIN_APPROX_SIMPLE)\n",
    "\n",
    "    perim = cv2.arcLength(contours[1], True)\n",
    "    # setting the precision\n",
    "    epsilon = 0.02 * perim\n",
    "\n",
    "    approxCorners = cv2.approxPolyDP(contours[1], epsilon, True)\n",
    "    corners = np.array(approxCorners).reshape(4, 2)\n",
    "    \n",
    "    print(corners.shape)\n",
    "    for point in corners:\n",
    "        cv2.circle(img, (point[0], point[1]), 30, (0, 0, 255), -1)\n",
    "\n",
    "    wrapped_img = np.zeros((img.shape[1], img.shape[0], 3))\n",
    "    \n",
    "    print(wrapped_img.shape)\n",
    "    dst = np.float32(np.array(\n",
    "        [[0, 0], [wrapped_img.shape[0], 0], [0, wrapped_img.shape[1]], [wrapped_img.shape[0], wrapped_img.shape[1]]]))\n",
    "    src = np.array([corners[1], corners[0], corners[2], corners[3]])\n",
    "    src = np.float32(src)\n",
    "\n",
    "    matrix = cv2.getPerspectiveTransform(src, dst)\n",
    "    result = cv2.warpPerspective(img, matrix, (wrapped_img.shape[0], wrapped_img.shape[1]))\n",
    "\n",
    "    image_sharp = cv2.filter2D(src=result, ddepth=-1, kernel=kernel)\n",
    "\n",
    "    text = pytesseract.image_to_string(image_sharp, config=config)\n",
    "    print(\"TEXT: \" + text)\n",
    "    return text"
   ]
  },
  {
   "cell_type": "code",
   "execution_count": 5,
   "metadata": {
    "id": "xLvpuA_hw0Cs"
   },
   "outputs": [],
   "source": [
    "target_text = \"\"\"\n",
    "Хэнтий Хангай Соёны өндөр сайхан нуруунууд\n",
    "Хойд зүгийн чимэг болсон ой хөвч уулнууд\n",
    "Мэнэн Шарга Номины өөргөн их говиуд\n",
    "Өмнө зүгийн манлай болсон элсэн манхан далайнууд\n",
    "Энэ бол миний төрсөн нутаг\n",
    "Монголын сайхан орон\n",
    "Хэрлэн,Онон,Туулын тунгалаг ариун мөрнүүд\n",
    "Хотол олны эм болсон горхи булаг рашаанууд\n",
    "Хөвсгөл,Увс,Буйрын гүн цэнхэр нуурууд\n",
    "Хүн малын ундаа болсон тойром бүрд уснууд\n",
    "Энэ бол миний төрсөн нутаг\n",
    "Монголын сайхан орон\n",
    "Орхон,Сэлэнгэ,Хөхийн онц сайн голууд\n",
    "Уурхай баялгийн охь болсон олон уул даваанууд\n",
    "Хуучин хөшөө дурсгал,хот балгадын сууринууд\n",
    "Хол газраа одсон харгуй дардан замууд\n",
    "Энэ бол миний төрсөн нутаг\n",
    "Монголын сайхан орон\n",
    "Холхи газраас гялалзсан цаст өндөр хайрхнууд\n",
    "Хөх тэнгэр цэлмэсэн хөдөө хээр цайдмууд\n",
    "Холын бараа харагдсан ноён шовх сарьдгууд\n",
    "Хүний сэтгэл тэнийсэн уудам амьсгалт талууд\n",
    "Энэ бол миний төрсөн нутаг\n",
    "Монголын сайхан орон\n",
    "Хангай говийн хооронд Халхын уудам нутаг\n",
    "Хар бага наснаас хөдлөн гулд  давхисан газар\n",
    "Гөрөөс араатан авласан урт урт шилнүүд\n",
    "Хүлэг морин уралдсан хөндий сайхан хоолойнууд\n",
    "Энэ бол миний төрсөн нутаг\n",
    "Монголын сайхан орон\n",
    "\"\"\"\n",
    "\n",
    "def matchTargetText(text):\n",
    "    target_text1 = target_text.replace(\"\\n\", \" \")\n",
    "    target_text1 = target_text1.replace(\",\", \" \").lower().split(\" \")\n",
    "    \n",
    "    text = text.replace(\"\\n\", \" \")\n",
    "    text = text.replace(\",\", \" \").lower().split(\" \")\n",
    "    \n",
    "    accuracy = len(list(set(target_text1) & set(text))) * 100 / len(set(target_text1))\n",
    "    print(\"Танилтын хувь: %0.2f%%\"%accuracy)"
   ]
  },
  {
   "cell_type": "code",
   "execution_count": 6,
   "metadata": {},
   "outputs": [
    {
     "name": "stdout",
     "output_type": "stream",
     "text": [
      "(4, 2)\n",
      "(1536, 2048, 3)\n",
      "TEXT: Хэнтий Хангай Соёны өндөр сайхан нуруунууд\n",
      "Хойд зүгийн чимэг болсон ой хөвч уулнууд\n",
      "Мэнэн Шарга Номины өөргөн их гоянуд\n",
      "Өмнө зүгийн манлай болсон элсэн манхан далайнууд\n",
      "Энэ бол миний торсон нутаг\n",
      "Монголын сайхан орон\n",
      "Хэрлэн, Опон, Туулын тунгалаг ариун мөрнүүд\n",
      "Хотол олны эм болсон горхи булаг рашаанууд\n",
      "Хөвсгөл, Увс, Буйрын гүн цэнхэр нууруул\n",
      "Хүн малын ундаа болсон тойром бүрд уснууд\n",
      "Энэ бол миний төрсөн нутаг\n",
      "Монголын сайхан орон\n",
      "Орхон,Сэлэнгэ,Хөхийн онц сайн голууд\n",
      "Уурхай баялгийн охь болсон олон уул даваанууд\n",
      "Хуучин хөшөө дурсгал, хот балгадын сууринууд\n",
      "Хол газраа одсон харгуй дардан замууд\n",
      "Энэ бол миний төрсөн нутаг\n",
      "Монголын сайхан орон\n",
      "Холхи газраас гялалзсан цаст өндөр хайрхнууд\n",
      "Хөх тэнгэр цэлмэсэн хөдөө хээр цайдмууд\n",
      "Холын бараа харагдсан ноён шовх сарьдгууд\n",
      "Хүний сэтгэл тэнийсэн уудам амьсгалт талууд\n",
      "Энэ бол миний төрсөн нутаг\n",
      "Монголын сайхан орон\n",
      "Хангай говийн хооронд Халхын уудам нутаг\n",
      "Хар бага наснаас хөдлөн гулд давхисан газар\n",
      "Гөрөөс араатан авласан урт урт шилнүүд\n",
      "Хүлэг морин уралдсан хөндий сайхан хоолойнууд\n",
      "Энэ бол миний төрсөн нутаг\n",
      "\n",
      "Монголын сайхан орон\n",
      "\n",
      "\n"
     ]
    }
   ],
   "source": [
    "miniiNutag2 = img2()"
   ]
  },
  {
   "cell_type": "code",
   "execution_count": 7,
   "metadata": {},
   "outputs": [
    {
     "name": "stdout",
     "output_type": "stream",
     "text": [
      "(4, 2)\n",
      "(1536, 2048, 3)\n",
      "TEXT: “Е ВаХсэүвүжэрХүЛлЭ ЭЭ.\n",
      "\n",
      "Хэнтий Ханг ай Соёны Өндөр сайхан нуруунууд\n",
      "\n",
      "2207 5 Е\n",
      "Хойд ЗҮГийн чимэг болсон ой хөвч уулнууд\n",
      "\n",
      "Мэнэн Шарга Номины өөргөн их говиуд\n",
      "\n",
      "Өмнө зүгийн манлай болсон элсэн манхан далайнууд\n",
      "\n",
      "Энэ бол миний төрсөн нутаг\n",
      "\n",
      "Монголын сайхан орон\n",
      "\n",
      "Хэрлэн, Онон, Туулын тунгалаг ариун мөрнүүд\n",
      "\n",
      "Хотол олны ЭМ болсон горхи булаг рашаанууд\n",
      "Хөвсгөл, Увс, Буйрын гүн цэнхэр нуурууд\n",
      "Хүн малын ундаа болсон тойром бүрд уснууд\n",
      "\n",
      "Энэ бол миний төрсөн нутаг\n",
      "Монголын сайхан орон\n",
      "Орхон,Сэлэнгэ,Хөхийн онц сайн голууд\n",
      "Уурхай баялгийн охь болсон олон уул даваанууд\n",
      "Хуучин хөшөө дурсгал, хот балгадын сууринууд\n",
      "Хол газраа одсон харгуй дардан замууд\n",
      "Энэ бол миний төрсөн нутаг\n",
      "Монголын сайхан орон\n",
      "Холхи газраас гялалзсан цаст өндөр хайрхнууд\n",
      "Хөх тэнгэр цэлмэсэн хөдөө хээр цайдмуул\n",
      "Холын бараа харагдсан ноён шовх сарьдгуул\n",
      "Хүний сэтгэл тэнийсэн уудам амьсгалт талуУл\n",
      "Энэ бол миний төрсөн нутаг\n",
      "Монголын сайхан орон\n",
      "Хангай говийн хооронд Халхын уудам нута!\n",
      "Хар бага наснаас хөдлөн гулд давхисан газар\n",
      "Гөрөөс араатан авласан урт урт шилнүүд\n",
      "Хүлэг морин уралдсан хөндий сайхан хоолойнууд\n",
      "\n",
      "Энэ бол миний төрсөн нутаг\n",
      "\n",
      "Монголын сайхан орон\n",
      "\n",
      "\n"
     ]
    }
   ],
   "source": [
    "advImage = advImg()"
   ]
  },
  {
   "cell_type": "code",
   "execution_count": 8,
   "metadata": {},
   "outputs": [
    {
     "name": "stdout",
     "output_type": "stream",
     "text": [
      "minii nutag2 img:\n",
      "Танилтын хувь: 97.56%\n"
     ]
    }
   ],
   "source": [
    "print(\"minii nutag2 img:\")\n",
    "matchTargetText(miniiNutag2)"
   ]
  },
  {
   "cell_type": "code",
   "execution_count": 9,
   "metadata": {},
   "outputs": [
    {
     "name": "stdout",
     "output_type": "stream",
     "text": [
      "minii nutag advanced:\n",
      "Танилтын хувь: 97.56%\n"
     ]
    }
   ],
   "source": [
    "print(\"minii nutag advanced:\")\n",
    "matchTargetText(advImage)"
   ]
  },
  {
   "cell_type": "markdown",
   "metadata": {
    "id": "soULJKxQ17fX"
   },
   "source": [
    "## Даалгавар 1 PerspectiveTransform\n",
    "1. Зургын чанар хүчжүүлэх\n",
    "2. Зөвхөн А4 цаасыг дүрслэх \n",
    "\n",
    "  https://docs.opencv.org/4.x/dd/d49/tutorial_py_contour_features.html\n",
    "\n",
    "  https://docs.opencv.org/3.4/d4/d61/tutorial_warp_affine.html \n",
    "\n",
    "3. Threshold-ын утгыг тохируулах\n",
    "4. Алдааг багасгах, Танилтын хувь 100% руу дөхүүлэх. \n",
    "\n",
    "## Даалгавар 2\n",
    "  /content/minii_nutag2.jpg зурагт боловсруулалтыг гүйцэтгэх.\n",
    "\n",
    "## Даалгавар advanced\n",
    "  /content/minii_nutag_advanced.jpg зурагт боловсруулалтыг гүйцэтгэх.\n",
    "\n",
    "## Даалгавар нэмэлт\n",
    "  Дурын албан бичгээс текст олборлох программ бичих\n",
    "## Хугацаа 3 долоо хоног\n",
    "Өөрийн сурж мэдсэн дүгнэлтийг энэхүү Ipynb файлд оруулна уу 500 хүртэлх үгтэй."
   ]
  },
  {
   "cell_type": "markdown",
   "metadata": {
    "id": "i_SE9tLv-xpv"
   },
   "source": [
    "# Дүгнэлт\n",
    "\n",
    "\n",
    "`OCR буюу optical character recognition нь зургаас текст задлахад ашигладаг технологи юм.` OCR нь зураг дээрх тэмдэгтүүдийг таньж, тэдгээрийг машинд уншигдахуйц текст болгон хувиргах боломжийг олгодог. Tesseract бол Python программыг ашиглан зургаас текст гаргаж авах боломжтой `open source` OCR engine юм. `Зураг боловсруулалтанд` OCR-ийн чухал хэсэг юм. \n",
    "\n",
    "Зургийг сайжруулах, `OCR-ийн accurarcy` сайжруулахын тулд хоёртын дүрслэл(`Binarization`), чимээ шуугиан бууруулах, бүдүүвчийг арилгах зэрэг дүрс боловсруулах аргуудыг ашигладаг. Хоёртын дүрслэл гэдэг нь саарал өнгийн дүрсийг хоёртын дүрс болгон хувиргах үйл явц бөгөөд пиксел нь хар эсвэл цагаан өнгөтэй байна. \n",
    "\n",
    "Энэ нь зургийн `contrast` сайжруулж, дүрүүдийг онцгойлон харуулахын тулд хийгддэг. `noise reduction` нь OCR нарийвчлалд саад учруулж болох толбо, цэг зэрэг хүсээгүй элементүүдийг зурагнаас арилгахад ашиглагддаг. Бууруулах нь бага зэрэг хазайсан эсвэл эргүүлсэн дүрсийг шулуун болгох үйл явц юм. \n",
    "\n",
    "Python-д Pillow, OpenCV, Scikit-image зэрэг хэд хэдэн сангуудыг зураг боловсруулахад ашиглаж болно. Эдгээр сангууд нь шүүлтүүр, морфологийн үйлдэл, хувиргалт зэрэг дүрс боловсруулах янз бүрийн функц, хэрэгслээр хангадаг.\n",
    "\n",
    "Tesseract-тай OCR болон Python дээр зураг боловсруулах нь автоматжуулсан өгөгдөл оруулах, хэвлэсэн баримт бичгийг дижитал хэлбэрт оруулах, машин сурахад зориулж зургаас текст задлах зэрэг өргөн хүрээний хэрэглээнд ашиглагдаж болно."
   ]
  }
 ],
 "metadata": {
  "colab": {
   "provenance": []
  },
  "gpuClass": "standard",
  "kernelspec": {
   "display_name": "Python 3 (ipykernel)",
   "language": "python",
   "name": "python3"
  },
  "language_info": {
   "codemirror_mode": {
    "name": "ipython",
    "version": 3
   },
   "file_extension": ".py",
   "mimetype": "text/x-python",
   "name": "python",
   "nbconvert_exporter": "python",
   "pygments_lexer": "ipython3",
   "version": "3.10.6"
  },
  "vscode": {
   "interpreter": {
    "hash": "2c1f791aad11b1952a584b19e2f8298debc54f57dc7cde027814c00480cdc238"
   }
  }
 },
 "nbformat": 4,
 "nbformat_minor": 1
}
